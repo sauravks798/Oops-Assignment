{
  "nbformat": 4,
  "nbformat_minor": 0,
  "metadata": {
    "colab": {
      "provenance": []
    },
    "kernelspec": {
      "name": "python3",
      "display_name": "Python 3"
    },
    "language_info": {
      "name": "python"
    }
  },
  "cells": [
    {
      "cell_type": "markdown",
      "source": [
        "#Oops Theory Question"
      ],
      "metadata": {
        "id": "GvtB4QOjZyEh"
      }
    },
    {
      "cell_type": "markdown",
      "source": [
        "1. What is Object-Oriented Programming (OOP)?\n",
        "  - Object-Oriented Programming (OOP) is a programming paradigm that organizes code using classes and objects to model real-world entities It allows for code that's more modular, reusable, and easier to maintain.\n",
        "\n",
        "\n",
        "2.  What is a class in OOP?\n",
        "  - A class in Object-Oriented Programming (OOP) is a blueprint or template for creating objects, It defines the data and functions that the objects created from the class will have.\n",
        "\n",
        "  - Think of a class like an architectural blueprint for a house it defines what a house should have like doors, windows, rooms but it's not an actual house. You can create multiple houses (objects) based on that blueprint, each with its own values.\n",
        "\n",
        "3. What is an object in OOP?\n",
        "  - An object in Oop is an instance of a class, It's a concrete entity that is created based on the blueprint provided by a class. While the class defines the structure and behavior, the object holds actual data and can use the methods defined in the class.\n",
        "\n",
        "4.  What is the difference between abstraction and encapsulation?\n",
        "  - Abstraction is the process of hiding complex implementation details and Encapsulation is the methods that operate on that data within one class, and restricting direct access to some of the object’s components.\n",
        "\n",
        "\n",
        "5. What are dunder methods in Python?\n",
        "  - Dunder methods, also known as magic methods or special methods, in Python are special reserved methods that are surrounded by double underscores. These methods allow you to define how instances of your classes behave when they are used with built-in Python functions or operators. Understanding dunder methods is crucial for creating custom objects that behave like built-in types or implementing operator overloading in Python.\n",
        "\n",
        "6. Explain the concept of inheritance in OOP?\n",
        "  - Inheritance is an OOP concept where one class (called the child or subclass) inherits properties and behaviors (attributes and methods) from another class (called the parent or superclass).\n",
        "\n",
        "  - This allows for code reuse and a natural way to model real-world relationships (like a Car is a type of Vehicle)."
      ],
      "metadata": {
        "id": "8k8M1f8-aMBS"
      }
    },
    {
      "cell_type": "code",
      "execution_count": null,
      "metadata": {
        "colab": {
          "base_uri": "https://localhost:8080/"
        },
        "id": "6ZW5ScwCYwd6",
        "outputId": "4b57225c-a179-4b2b-e485-7cc4db9345c0"
      },
      "outputs": [
        {
          "output_type": "stream",
          "name": "stdout",
          "text": [
            "Hello from the Parent class!\n",
            "Hello from the Child class!\n"
          ]
        }
      ],
      "source": [
        "# Example\n",
        "class Parent:\n",
        "    def greet(self):\n",
        "        print(\"Hello from the Parent class!\")\n",
        "\n",
        "class Child(Parent):  # Child inherits from Parent\n",
        "    def greet_child(self):\n",
        "        print(\"Hello from the Child class!\")\n",
        "\n",
        "\n",
        "c = Child()\n",
        "c.greet()         # Inherited from Parent\n",
        "c.greet_child()   # Defined in Child"
      ]
    },
    {
      "cell_type": "markdown",
      "source": [
        "7. What is polymorphism in OOP?\n",
        "  - Polymorphism means \"many forms.\" In OOP, it allows different classes to define methods with the same name that behave differently depending on the object calling them.\n",
        "\n",
        "8. How is encapsulation achieved in Python?\n",
        "  -  A class's data members and methods can be made private or protected in\n",
        "order to achieve encapsulation. Direct access modifiers like public, private, and protected don't exist in Python,\n",
        "though. Single and double underscores can be used to accomplish this.\n",
        "\n",
        "9. What is a constructor in Python?\n",
        "  - A constructor in Python is a special method that is automatically called when a new object of a class is created. It is used to initialize the object’s attributes."
      ],
      "metadata": {
        "id": "8ki2I_0gbnmf"
      }
    },
    {
      "cell_type": "code",
      "source": [
        "# Syntex\n",
        "class Person:\n",
        "    def __init__(self, name, age):  # Constructor\n",
        "        self.name = name\n",
        "        self.age = age\n",
        "\n",
        "# Creating an object\n",
        "p1 = Person(\"Alice\", 30)\n",
        "\n",
        "print(p1.name)  # Output: Alice\n",
        "print(p1.age)   # Output: 30"
      ],
      "metadata": {
        "id": "2OqBrMyLsBg3",
        "colab": {
          "base_uri": "https://localhost:8080/"
        },
        "outputId": "7b4b92d5-36ab-4c9c-feec-775ce627571b"
      },
      "execution_count": null,
      "outputs": [
        {
          "output_type": "stream",
          "name": "stdout",
          "text": [
            "Alice\n",
            "30\n"
          ]
        }
      ]
    },
    {
      "cell_type": "markdown",
      "source": [
        "10.  What are class and static methods in Python?\n",
        "  - Class methods :- Class methods are methods that are bound to the class and not the instance of the class. They can access or modify class state that applies across all instances of the class. Class methods are defined using the @classmethod decorator.\n",
        "  \n",
        "  - Static methods :- Static methods are methods that belong to the class and don't access or modify class or instance state. They are defined using the @staticmethod decorator.\n",
        "\n",
        "11. What is method overloading in Python?\n",
        "  -  Method overloading is the practice of invoking the same method more than\n",
        "once with different parameters. Method overloading is not supported by Python. Even if you overload the method, Python only takes into account the most recent definition. If you overload a method in Python, a TypeError will be raised."
      ],
      "metadata": {
        "id": "EpxqKzB_kqBL"
      }
    },
    {
      "cell_type": "code",
      "source": [
        "# example\n",
        "class Demo:\n",
        "    def show(self, x):\n",
        "        print(\"One argument:\", x)\n",
        "\n",
        "    def show(self, x, y):\n",
        "        print(\"Two arguments:\", x, y)\n",
        "\n",
        "d = Demo()\n",
        "d.show(1, 2)  # Output: Two arguments: 1 2\n",
        "# d.show(1)   # ❌ Error: missing 1 required positional argument"
      ],
      "metadata": {
        "colab": {
          "base_uri": "https://localhost:8080/"
        },
        "id": "7PXilal6kWr8",
        "outputId": "91c7d01e-49df-47ea-eac3-8cc5bd3ff0a1"
      },
      "execution_count": null,
      "outputs": [
        {
          "output_type": "stream",
          "name": "stdout",
          "text": [
            "Two arguments: 1 2\n"
          ]
        }
      ]
    },
    {
      "cell_type": "markdown",
      "source": [
        "12. What is method overriding in OOP?\n",
        "  - Method overriding in Python allows a subclass to provide a different implementation of a method already defined in its superclass. The overridden method in the subclass must have the same name, parameters, and return type as the one in the superclass. This enables the subclass to customize or extend the inherited method's behavior. When called on a subclass object, the subclass version is executed at runtime, not the superclass version. This supports polymorphism through dynamic method dispatch based on the object's actual type."
      ],
      "metadata": {
        "id": "7s2bCIBUqwNk"
      }
    },
    {
      "cell_type": "code",
      "source": [
        "# Example\n",
        "class Animal:\n",
        "    def speak(self):\n",
        "        return \"Animal makes a sound\"\n",
        "\n",
        "class Dog(Animal):\n",
        "    def speak(self):  # Overriding the parent method\n",
        "        return \"Dog barks\"\n",
        "\n",
        "class Cat(Animal):\n",
        "    def speak(self):\n",
        "        return \"Cat meows\"\n",
        "\n",
        "# Testing\n",
        "a = Animal()\n",
        "d = Dog()\n",
        "c = Cat()\n",
        "\n",
        "print(a.speak())  # Animal makes a sound\n",
        "print(d.speak())  # Dog barks\n",
        "print(c.speak())  # Cat meows"
      ],
      "metadata": {
        "colab": {
          "base_uri": "https://localhost:8080/"
        },
        "id": "h3fJR6JMoYSB",
        "outputId": "4ed4e0d3-e460-48ea-d62c-7945fbba0844"
      },
      "execution_count": null,
      "outputs": [
        {
          "output_type": "stream",
          "name": "stdout",
          "text": [
            "Animal makes a sound\n",
            "Dog barks\n",
            "Cat meows\n"
          ]
        }
      ]
    },
    {
      "cell_type": "markdown",
      "source": [
        "13. What is a property decorator in Python?\n",
        "  - Imagine you have a class representing a circle, and you want to calculate its area based on its radius. But you don't want users to directly access the radius attribute; instead, you want them to call a method that computes and returns the area. @property\n",
        "\n",
        "14. Why is polymorphism important in OOP?\n",
        "  - Polymorphism is important in Object-Oriented Programming (OOP) because it makes your code more flexible, extensible, and maintainable.\n",
        "  - You can write one function that works with many different object types, as long as they share a common interface.\n",
        "  - New classes can be added without changing existing code, as long as they implement the expected methods.\n",
        "  - You avoid duplicate logic by using the same method call across different object types.\n",
        "  - You can define a general interface in a base class and let each subclass define its own behavior, keeping the design clean and scalable."
      ],
      "metadata": {
        "id": "LcGVhGPiqu-0"
      }
    },
    {
      "cell_type": "code",
      "source": [
        "# 15. What is an abstract class in Python?\n",
        "\n",
        "''' It is using the abc module and use the @abstractmethod decorator to specify methods that must be implemented by any subclass.'''\n",
        "\n",
        "from abc import ABC, abstractmethod\n",
        "\n",
        "class Animal(ABC):  # Animal is now an abstract class.\n",
        "    @abstractmethod\n",
        "    def speak(self):\n",
        "        pass\n",
        "\n",
        "# Example\n",
        "class Dog(Animal):\n",
        "    def speak(self):\n",
        "        return \"Woof!\"\n",
        "\n",
        "class Cat(Animal):\n",
        "    def speak(self):\n",
        "        return \"Meow!\"\n",
        "\n",
        "d = Dog()\n",
        "print(d.speak())  # Woof!\n",
        "\n",
        "c = Cat()\n",
        "print(c.speak())  # Meow!\n"
      ],
      "metadata": {
        "id": "AXTnBePx3ZRS",
        "colab": {
          "base_uri": "https://localhost:8080/"
        },
        "outputId": "c8167510-420e-413f-b729-c77a5babffb9"
      },
      "execution_count": null,
      "outputs": [
        {
          "output_type": "stream",
          "name": "stdout",
          "text": [
            "Woof!\n",
            "Meow!\n"
          ]
        }
      ]
    },
    {
      "cell_type": "markdown",
      "source": [
        "16. What are the advantages of OOP?\n",
        "  - Object-Oriented Programming (OOP) has several powerful advantages:-\n",
        "  -  Encapsulation\n",
        "      * Keeps data (attributes) and behavior (methods) bundled together.\n",
        "      * Helps prevent unauthorized access and accidental modification.\n",
        "      * Promotes modular code, where changes in one class don't ripple out.\n",
        "     \n",
        "  -  Reusability through Inheritance\n",
        "      * Reduce duplication by inheriting from a base class.\n",
        "      * Share and reuse code across multiple classes.\n",
        "  - Polymorphism\n",
        "     * Use the same interface for different types of objects.\n",
        "     * Makes code more flexible and easier to extend.\n",
        "  \n",
        "17. What is the difference between a class variable and an instance variable?\n",
        "  - Class Variable\n",
        "      * Belongs to the class itself, not to any one instance.\n",
        "      * Shared across all instances of the class.\n",
        "      * Typically defined outside of any method, at the class level.\n",
        "\n",
        "  - Instance Variable\n",
        "      * Belongs to the specific object (instance).\n",
        "      * Unique to each instance.\n",
        "      * Usually defined in the __init__ method using self\n"
      ],
      "metadata": {
        "id": "7VlViDormFs5"
      }
    },
    {
      "cell_type": "code",
      "source": [
        "# 18. What is multiple inheritance in Python?\n",
        " ''' Multiple inheritance in Python means that a class can inherit from more than one parent class at the same time.'''\n",
        "class Parent1:\n",
        "    def method1(self):\n",
        "        print(\"Method from Parent1\")\n",
        "\n",
        "class Parent2:\n",
        "    def method2(self):\n",
        "        print(\"Method from Parent2\")\n",
        "\n",
        "class Child(Parent1, Parent2):\n",
        "    pass\n",
        "\n",
        "c = Child()\n",
        "c.method1()  # from Parent1\n",
        "c.method2()  # from Parent2"
      ],
      "metadata": {
        "colab": {
          "base_uri": "https://localhost:8080/"
        },
        "id": "L1GwOJhHl0J5",
        "outputId": "33d14c4e-c95a-4f88-b782-5f22898e2799"
      },
      "execution_count": null,
      "outputs": [
        {
          "output_type": "stream",
          "name": "stdout",
          "text": [
            "Method from Parent1\n",
            "Method from Parent2\n"
          ]
        }
      ]
    },
    {
      "cell_type": "markdown",
      "source": [
        " 19. Explain the purpose of ‘’__str__’ and ‘__repr__’ ‘ methods in Python?\n",
        "  - __str__ and __repr__ are two important dunder methods in Python that control how your objects are represented as strings.\n",
        "\n",
        "20. What is the significance of the ‘super()’ function in Python?\n",
        "  - The super() function in Python is used to call a method from a parent (or superclass) — and it's especially useful when you're working with inheritance.\n"
      ],
      "metadata": {
        "id": "2f44R7jhr979"
      }
    },
    {
      "cell_type": "code",
      "source": [
        "# 21.  What is the significance of the __del__ method in Python?\n",
        "\n",
        "''' The __del__ method in Python is a special (dunder) method called a destructor. It is used to define behavior that should happen\n",
        "# when an object is about to be destroyed.'''\n",
        "\n",
        "# Purpose of __del__:\n",
        "''' > Closing files\n",
        "    > Releasing network connections\n",
        "    > Freeing external resources'''\n",
        "\n",
        "class FileHandler:\n",
        "    def __init__(self, filename):\n",
        "        self.file = open(filename, 'w')\n",
        "        print(f\"Opened {filename}\")\n",
        "\n",
        "    def __del__(self):\n",
        "        print(\"Closing file...\")\n",
        "        self.file.close()\n",
        "\n",
        "handler = FileHandler(\"test.txt\")\n",
        "del handler\n"
      ],
      "metadata": {
        "colab": {
          "base_uri": "https://localhost:8080/"
        },
        "id": "CpOzmceTr6Tn",
        "outputId": "86ceb6d4-7b0a-4f52-b6a0-fd1c939a8694"
      },
      "execution_count": null,
      "outputs": [
        {
          "output_type": "stream",
          "name": "stdout",
          "text": [
            "Opened test.txt\n",
            "Closing file...\n"
          ]
        }
      ]
    },
    {
      "cell_type": "markdown",
      "source": [
        "22. What is the difference between @staticmethod and @classmethod in Python?\n",
        "\n",
        "  - @staticmethod\n",
        "     * Doesn’t take self or cls as the first argument.\n",
        "     * Behaves like a regular function, but lives in the class namespace.\n",
        "     * Can’t access or modify class or instance state.\n",
        "     * Used when the method logically belongs to the class, but doesn't need access to it.\n",
        "\n",
        "  - @classmethod\n",
        "      * Takes cls as the first argument.\n",
        "      * Can access and modify class-level data.\n",
        "      * Often used for factory methods or alternative constructors.\n",
        "\n",
        "23. How does polymorphism work in Python with inheritance?\n",
        "  - Polymorphism in Python especially in the context of inheritance is a fundamental concept in object oriented programming that allows different classes to be treated as instances of the same class through a common interface.\n",
        "\n",
        "24.  What is method chaining in Python OOP?\n",
        "  - Method chaining in Python OOP is a technique where multiple methods are called on the same object in a single line, one after another, like a chain. This is possible when each method returns self (i.e., the object itself), allowing the next method to be called on that object.\n",
        "\n",
        "25. What is the purpose of the __call__ method in Python?\n",
        "  - The __call__ method in Python is one of the special methods, and it allows an instance of a class to be called like a function.\n",
        "  If define __call__ in your class, then use the object as if it were a function"
      ],
      "metadata": {
        "id": "0VvGGjmY3n9v"
      }
    },
    {
      "cell_type": "markdown",
      "source": [
        "#Practical Questions Oops"
      ],
      "metadata": {
        "id": "Xz_742LsqynM"
      }
    },
    {
      "cell_type": "code",
      "source": [
        "# 1. Create a parent class Animal with a method speak() that prints a generic message. Create a child class Dog that overrides the speak() method to print \"Bark!\".\n",
        "\n",
        "class Animal():\n",
        "  def speak(self):\n",
        "    print(\"animal produce sount\")\n",
        "\n",
        "class Dog(Animal):\n",
        "  def speak(self):\n",
        "    print(\"Bark!\")\n",
        "\n",
        "# Example usage\n",
        "animal = Animal()\n",
        "animal.speak()\n",
        "\n",
        "dog = Dog()\n",
        "dog.speak()\n"
      ],
      "metadata": {
        "id": "VeDUiu6m3UZn",
        "colab": {
          "base_uri": "https://localhost:8080/"
        },
        "outputId": "2fe4ab68-f677-4218-9e38-f648eb12bc5e"
      },
      "execution_count": null,
      "outputs": [
        {
          "output_type": "stream",
          "name": "stdout",
          "text": [
            "animal produce sount\n",
            "Bark!\n"
          ]
        }
      ]
    },
    {
      "cell_type": "code",
      "source": [
        "# 2. Write a program to create an abstract class Shape with a method area(). Derive classes Circle and Rectangle from it and implement the area() method in both.\n",
        "\n",
        "from abc import ABC, abstractmethod\n",
        "import math\n",
        "\n",
        "class Shape(ABC):\n",
        "    @abstractmethod\n",
        "    def area(self):\n",
        "        pass\n",
        "\n",
        "class Circle(Shape):\n",
        "    def __init__(self, radius):\n",
        "        self.radius = radius\n",
        "\n",
        "    def area(self):\n",
        "        return math.pi * self.radius ** 2\n",
        "\n",
        "class Rectangle(Shape):\n",
        "    def __init__(self, width, height):\n",
        "        self.width = width\n",
        "        self.height = height\n",
        "\n",
        "    def area(self):\n",
        "        return self.width * self.height\n",
        "\n",
        "shapes = [\n",
        "    Circle(5),\n",
        "    Rectangle(4, 6)\n",
        "]\n",
        "\n",
        "for shape in shapes:\n",
        "    print(f\"{shape.__class__.__name__} area: {shape.area():.2f}\")"
      ],
      "metadata": {
        "id": "HHvYZU1Z0nz9",
        "colab": {
          "base_uri": "https://localhost:8080/"
        },
        "outputId": "b882bfaf-987e-4ae7-a570-2ca85f7217c0"
      },
      "execution_count": null,
      "outputs": [
        {
          "output_type": "stream",
          "name": "stdout",
          "text": [
            "Circle area: 78.54\n",
            "Rectangle area: 24.00\n"
          ]
        }
      ]
    },
    {
      "cell_type": "code",
      "source": [
        "# 3.  Implement a multi-level inheritance scenario where a class Vehicle has an attribute type.\n",
        "#     Derive a class Car and further derive a class Electric Car that adds a battery attribute.\n",
        "\n",
        "class Vehicle:\n",
        "    def __init__(self, vehicle_type):\n",
        "        self.type = vehicle_type\n",
        "\n",
        "    def show_info(self):\n",
        "        print(f\"Vehicle type: {self.type}\")\n",
        "\n",
        "class Car(Vehicle):\n",
        "    def __init__(self, vehicle_type, brand):\n",
        "        super().__init__(vehicle_type)\n",
        "        self.brand = brand\n",
        "\n",
        "    def show_info(self):\n",
        "        super().show_info()\n",
        "        print(f\"Brand: {self.brand}\")\n",
        "\n",
        "class ElectricCar(Car):\n",
        "    def __init__(self, vehicle_type, brand, battery_capacity):\n",
        "        super().__init__(vehicle_type, brand)\n",
        "        self.battery = battery_capacity\n",
        "\n",
        "    def show_info(self):\n",
        "        super().show_info()\n",
        "        print(f\"Battery capacity: {self.battery} kWh\")\n",
        "\n",
        "# Example usage\n",
        "my_ev = ElectricCar(\"Electric\", \"TATA\", 75)\n",
        "my_ev.show_info()\n"
      ],
      "metadata": {
        "colab": {
          "base_uri": "https://localhost:8080/"
        },
        "id": "Ez3c3Ris4AcQ",
        "outputId": "574e8e6b-63fc-4353-c951-556ca11b07c8"
      },
      "execution_count": null,
      "outputs": [
        {
          "output_type": "stream",
          "name": "stdout",
          "text": [
            "Vehicle type: Electric\n",
            "Brand: TATA\n",
            "Battery capacity: 75 kWh\n"
          ]
        }
      ]
    },
    {
      "cell_type": "code",
      "source": [
        "# 4. Demonstrate polymorphism by creating a base class Bird with a method fly(). Create two derived classes Sparrow and Penguin that override the fly() method.\n",
        "\n",
        "class Bird:\n",
        "    def fly(self):\n",
        "        print(\"This bird can fly.\")\n",
        "\n",
        "class Sparrow(Bird):\n",
        "    def fly(self):\n",
        "        print(\"Sparrow flies high in the sky!\")\n",
        "\n",
        "class Penguin(Bird):\n",
        "    def fly(self):\n",
        "        print(\"Penguins can't fly, they swim instead.\")\n",
        "\n",
        "def bird_flight(bird):\n",
        "    bird.fly()\n",
        "\n",
        "bird1 = Sparrow()\n",
        "bird1.fly()\n",
        "bird2 = Penguin()\n",
        "bird2.fly()"
      ],
      "metadata": {
        "colab": {
          "base_uri": "https://localhost:8080/"
        },
        "id": "bbmyIbj9FN25",
        "outputId": "2b36a6dd-c1a7-4431-bd96-e4c16adcd213"
      },
      "execution_count": null,
      "outputs": [
        {
          "output_type": "stream",
          "name": "stdout",
          "text": [
            "Sparrow flies high in the sky!\n",
            "Penguins can't fly, they swim instead.\n"
          ]
        }
      ]
    },
    {
      "cell_type": "code",
      "source": [
        "# 5. Write a program to demonstrate encapsulation by creating a class BankAccount with private attributes\n",
        "#    balance and methods to deposit, withdraw, and check balance.\n",
        "\n",
        "class BankAccount:\n",
        "    def __init__(self, initial_balance=0):\n",
        "        self.__balance = initial_balance\n",
        "\n",
        "    def deposit(self, amount):\n",
        "        if amount > 0:\n",
        "            self.__balance += amount\n",
        "            print(f\"Deposited: {amount}\")\n",
        "        else:\n",
        "            print(\"Deposit amount must be positive.\")\n",
        "\n",
        "    def withdraw(self, amount):\n",
        "        if amount <= self.__balance:\n",
        "            self.__balance -= amount\n",
        "            print(f\"Withdrawn: {amount}\")\n",
        "        else:\n",
        "            print(\"Insufficient balance.\")\n",
        "\n",
        "    def check_balance(self):\n",
        "        print(f\"Current balance: {self.__balance}\")\n",
        "\n",
        "account = BankAccount(1000)\n",
        "account.check_balance()\n",
        "account.deposit(500)\n",
        "account.withdraw(300)\n",
        "account.check_balance()"
      ],
      "metadata": {
        "colab": {
          "base_uri": "https://localhost:8080/"
        },
        "id": "njrE8qKSHwl5",
        "outputId": "4cbc7fd5-91cd-4e56-b85e-27e8b9af5497"
      },
      "execution_count": 16,
      "outputs": [
        {
          "output_type": "stream",
          "name": "stdout",
          "text": [
            "Current balance: 1000\n",
            "Deposited: 500\n",
            "Withdrawn: 300\n",
            "Current balance: 1200\n"
          ]
        }
      ]
    },
    {
      "cell_type": "code",
      "source": [
        "# 6. Demonstrate runtime polymorphism using a method play() in a base class Instrument. Derive classes Guitar\n",
        "#    and Piano that implement their own version of play().\n",
        "class Instrument():\n",
        "  def play(self):\n",
        "    print(\"Playing an instrument...\")\n",
        "\n",
        "class Guitar(Instrument):\n",
        "  def play(self):\n",
        "    print(\"Strumming the guitar!\")\n",
        "\n",
        "class Piano(Instrument):\n",
        "  def play(self):\n",
        "    print(\"Playing the piano!\")\n",
        "\n",
        "def start_playing(instrument):\n",
        "    instrument.play()\n",
        "\n",
        "g = Guitar()\n",
        "p = Piano()\n",
        "\n",
        "start_playing(g)\n",
        "start_playing(p)\n"
      ],
      "metadata": {
        "colab": {
          "base_uri": "https://localhost:8080/"
        },
        "id": "YUjoWqRCJuZQ",
        "outputId": "1d1ac80d-a625-496c-957b-df73f981d0bd"
      },
      "execution_count": null,
      "outputs": [
        {
          "output_type": "stream",
          "name": "stdout",
          "text": [
            "Strumming the guitar!\n",
            "Playing the piano!\n"
          ]
        }
      ]
    },
    {
      "cell_type": "code",
      "source": [
        "# 7.  Create a class MathOperations with a class method add_numbers() to add two numbers and a static\n",
        "#     method subtract_numbers() to subtract two numbers.\n",
        "\n",
        "class MathOperations:\n",
        "    @classmethod\n",
        "    def add_numbers(cls, a, b):\n",
        "        return a + b\n",
        "\n",
        "    @staticmethod\n",
        "    def subtract_numbers(a, b):\n",
        "        return a - b\n",
        "\n",
        "# Example usage\n",
        "result1 = MathOperations.add_numbers(10, 5)\n",
        "result2 = MathOperations.subtract_numbers(10, 5)\n",
        "\n",
        "print(f\"Addition: {result1}\")\n",
        "print(f\"Subtraction: {result2}\")"
      ],
      "metadata": {
        "colab": {
          "base_uri": "https://localhost:8080/"
        },
        "id": "acJMEiCgOX-7",
        "outputId": "4857da05-f4c8-4cae-cac3-a47bc7f9dee7"
      },
      "execution_count": null,
      "outputs": [
        {
          "output_type": "stream",
          "name": "stdout",
          "text": [
            "Addition: 15\n",
            "Subtraction: 5\n"
          ]
        }
      ]
    },
    {
      "cell_type": "code",
      "source": [
        "# 8.  Implement a class Person with a class method to count the total number of persons created.\n",
        "\n",
        "class Person:\n",
        "    count = 0\n",
        "\n",
        "    def __init__(self, name):\n",
        "        self.name = name\n",
        "        Person.count += 1\n",
        "\n",
        "    @classmethod\n",
        "    def total_persons(cls):\n",
        "        print(f\"Total number of persons created: {cls.count}\")\n",
        "\n",
        "# Example\n",
        "p1 = Person(\"saurav\")\n",
        "p2 = Person(\"ramesh\")\n",
        "p3 = Person(\"shubham\")\n",
        "\n",
        "Person.total_persons()"
      ],
      "metadata": {
        "id": "nNTZY260Pb6g",
        "colab": {
          "base_uri": "https://localhost:8080/"
        },
        "outputId": "91b579cd-b42e-4e54-9044-5ed4d228ae84"
      },
      "execution_count": null,
      "outputs": [
        {
          "output_type": "stream",
          "name": "stdout",
          "text": [
            "Total number of persons created: 3\n"
          ]
        }
      ]
    },
    {
      "cell_type": "code",
      "source": [
        "# 9. Write a class Fraction with attributes numerator and denominator. Override the str method to display the fraction as \"numerator/denominator\".\n",
        "\n",
        "class Fraction:\n",
        "    def __init__(self, numerator, denominator):\n",
        "        self.numerator = numerator\n",
        "        self.denominator = denominator\n",
        "\n",
        "    def __str__(self):\n",
        "        return f\"{self.numerator}/{self.denominator}\"\n",
        "\n",
        "# Example\n",
        "f1 = Fraction(3, 4)\n",
        "f2 = Fraction(7, 2)\n",
        "\n",
        "print(f1)\n",
        "print(f2)"
      ],
      "metadata": {
        "colab": {
          "base_uri": "https://localhost:8080/"
        },
        "id": "IbEO5GlJmmrA",
        "outputId": "1251fed2-9786-4f1c-a974-fe205eda2cc9"
      },
      "execution_count": null,
      "outputs": [
        {
          "output_type": "stream",
          "name": "stdout",
          "text": [
            "3/4\n",
            "7/2\n"
          ]
        }
      ]
    },
    {
      "cell_type": "code",
      "source": [
        "# 10. Demonstrate operator overloading by creating a class Vector and overriding the add method to add two vectors.\n",
        "\n",
        "class Vector:\n",
        "    def __init__(self, x, y):\n",
        "        self.x = x\n",
        "        self.y = y\n",
        "\n",
        "    # Overloading the + operator\n",
        "    def __add__(self, other):\n",
        "        return Vector(self.x + other.x, self.y + other.y)\n",
        "\n",
        "    def __str__(self):\n",
        "        return f\"Vector({self.x}, {self.y})\"\n",
        "\n",
        "# Example usage\n",
        "v1 = Vector(2, 3)\n",
        "v2 = Vector(4, 5)\n",
        "v3 = v1 + v2\n",
        "\n",
        "print(v1)\n",
        "print(v2)\n",
        "print(v3)"
      ],
      "metadata": {
        "colab": {
          "base_uri": "https://localhost:8080/"
        },
        "id": "SExwIGDGpLx_",
        "outputId": "cc3b6501-472e-4bc3-f2b2-232049293456"
      },
      "execution_count": null,
      "outputs": [
        {
          "output_type": "stream",
          "name": "stdout",
          "text": [
            "Vector(2, 3)\n",
            "Vector(4, 5)\n",
            "Vector(6, 8)\n"
          ]
        }
      ]
    },
    {
      "cell_type": "code",
      "source": [
        "# 11. Create a class Person with attributes name and age. Add a method greet() that prints \"Hello, my name is {name} and I am {age} years old.\"\n",
        "class Person:\n",
        "    def __init__(self, name, age):\n",
        "        self.name = name\n",
        "        self.age = age\n",
        "\n",
        "    def greet(self):\n",
        "        print(f\"Hello, my name is {self.name} and I am {self.age} years old.\")\n",
        "\n",
        "\n",
        "p1 = Person(\"saurav\", 24)\n",
        "p1.greet()"
      ],
      "metadata": {
        "colab": {
          "base_uri": "https://localhost:8080/"
        },
        "id": "iZ1-WTJ-zlhO",
        "outputId": "605d5951-baaf-4715-a4e9-a1455ea9e4c2"
      },
      "execution_count": null,
      "outputs": [
        {
          "output_type": "stream",
          "name": "stdout",
          "text": [
            "Hello, my name is saurav and I am 24 years old.\n"
          ]
        }
      ]
    },
    {
      "cell_type": "code",
      "source": [
        "# 12.  Implement a class Student with attributes name and grades. Create a method average_grade() to compute the average of the grades.\n",
        "class Student:\n",
        "    def __init__(self, name, grades):\n",
        "        self.name = name\n",
        "        self.grades = grades\n",
        "\n",
        "    def average_grade(self):\n",
        "        if len(self.grades) == 0:\n",
        "            return 0\n",
        "        return sum(self.grades) / len(self.grades)\n",
        "\n",
        "# Example usage\n",
        "s1 = Student(\"saurav\", [85, 90, 78, 92])\n",
        "print(f\"{s1.name} average grade is: {s1.average_grade():.2f}\")\n"
      ],
      "metadata": {
        "colab": {
          "base_uri": "https://localhost:8080/"
        },
        "id": "NzgEU4lOKurC",
        "outputId": "ec572abe-7047-4e61-90dd-47d9aa1c0175"
      },
      "execution_count": null,
      "outputs": [
        {
          "output_type": "stream",
          "name": "stdout",
          "text": [
            "saurav average grade is: 86.25\n"
          ]
        }
      ]
    },
    {
      "cell_type": "code",
      "source": [
        "# 13. Create a class Rectangle with methods set_dimensions() to set the dimensions and area() to calculate the area.\n",
        "class Rectangle:\n",
        "    def __init__(self):\n",
        "        self.length = 0\n",
        "        self.width = 0\n",
        "\n",
        "    def set_dimensions(self, length, width):\n",
        "        self.length = length\n",
        "        self.width = width\n",
        "\n",
        "    def area(self):\n",
        "        return self.length * self.width\n",
        "\n",
        "# Example usage\n",
        "rect = Rectangle()\n",
        "rect.set_dimensions(5, 3)\n",
        "print(f\"Area of rectangle: {rect.area()}\")"
      ],
      "metadata": {
        "colab": {
          "base_uri": "https://localhost:8080/"
        },
        "id": "rVr-Y7kCLleV",
        "outputId": "91083d84-f052-42a9-bc2d-0168daf43e3f"
      },
      "execution_count": null,
      "outputs": [
        {
          "output_type": "stream",
          "name": "stdout",
          "text": [
            "Area of rectangle: 15\n"
          ]
        }
      ]
    },
    {
      "cell_type": "code",
      "source": [
        "#14. Create a class Employee with a method calculate_salary() that computes the salary based on hours worked\n",
        "#    and hourly rate. Create a derived class Manager that adds a bonus to the salary.\n",
        "class Employee:\n",
        "    def __init__(self, name, hours_worked, hourly_rate):\n",
        "        self.name = name\n",
        "        self.hours_worked = hours_worked\n",
        "        self.hourly_rate = hourly_rate\n",
        "\n",
        "    def calculate_salary(self):\n",
        "        return self.hours_worked * self.hourly_rate\n",
        "\n",
        "class Manager(Employee):\n",
        "    def __init__(self, name, hours_worked, hourly_rate, bonus):\n",
        "        super().__init__(name, hours_worked, hourly_rate)\n",
        "        self.bonus = bonus\n",
        "\n",
        "    def calculate_salary(self):\n",
        "        base_salary = super().calculate_salary()\n",
        "        return base_salary + self.bonus\n",
        "\n",
        "# Example usage\n",
        "emp = Employee(\"saurav\", 40, 20)\n",
        "mgr = Manager(\"raghav\", 40, 30, 500)\n",
        "\n",
        "print(f\"{emp.name} salary: {emp.calculate_salary()}\")\n",
        "print(f\"{mgr.name} salary (with bonus): {mgr.calculate_salary()}\")"
      ],
      "metadata": {
        "colab": {
          "base_uri": "https://localhost:8080/"
        },
        "id": "8nQ8dl4vOZzl",
        "outputId": "c39622ce-4a5e-43a7-eee8-3c5436de5faf"
      },
      "execution_count": null,
      "outputs": [
        {
          "output_type": "stream",
          "name": "stdout",
          "text": [
            "saurav salary: 800\n",
            "raghav salary (with bonus): 1700\n"
          ]
        }
      ]
    },
    {
      "cell_type": "code",
      "source": [
        "# 15.  Create a class Product with attributes name, price, and quantity. Implement a method total_price() that calculates the total price of the product.\n",
        "class Product():\n",
        "  def __init__(self,name,price,quantity):\n",
        "    self.name = name\n",
        "    self.price = price\n",
        "    self.quantity = quantity\n",
        "\n",
        "  def total_price(self):\n",
        "    return self.price * self.quantity\n",
        "\n",
        "p1 = Product(\"Laptop\", 80000, 2)\n",
        "p2 = Product(\"Mobile\", 20000,5)\n",
        "print(f\"Total price for {p1.name}: {p1.total_price()}\")\n",
        "print(f\"Total price for {p2.name}: {p2.total_price()}\")"
      ],
      "metadata": {
        "colab": {
          "base_uri": "https://localhost:8080/"
        },
        "id": "dJu2VBCZYKhU",
        "outputId": "6ae52597-efbc-4d7e-80cc-f3d4923966f3"
      },
      "execution_count": null,
      "outputs": [
        {
          "output_type": "stream",
          "name": "stdout",
          "text": [
            "Total price for Laptop: 160000\n",
            "Total price for Mobile: 100000\n"
          ]
        }
      ]
    },
    {
      "cell_type": "code",
      "source": [
        "# 16. Create a class Animal with an abstract method sound(). Create two derived classes Cow and Sheep that implement the sound() method.\n",
        "\n",
        "from abc import ABC, abstractmethod\n",
        "\n",
        "class Animal(ABC):\n",
        "  @abstractmethod\n",
        "  def sound(self):\n",
        "    pass\n",
        "\n",
        "class Cow(Animal):\n",
        "    def sound(self):\n",
        "      return \"Moo\"\n",
        "\n",
        "class Sheep(Animal):\n",
        "    def sound(self):\n",
        "      return \"Baa\"\n",
        "\n",
        "if __name__ == \"__main__\":\n",
        "    cow = Cow()\n",
        "    sheep = Sheep()\n",
        "\n",
        "    print(\"Cow sound:\", cow.sound())\n",
        "    print(\"Sheep sound:\", sheep.sound())"
      ],
      "metadata": {
        "id": "r-npt2zbhICL",
        "colab": {
          "base_uri": "https://localhost:8080/"
        },
        "outputId": "5cb2da8e-b4a7-4297-b3a9-a5db899cbdc3"
      },
      "execution_count": 12,
      "outputs": [
        {
          "output_type": "stream",
          "name": "stdout",
          "text": [
            "Cow sound: Moo\n",
            "Sheep sound: Baa\n"
          ]
        }
      ]
    },
    {
      "cell_type": "code",
      "source": [
        "# 17. Create a class Book with attributes title, author, and year_published. Add a method get_book_info() that returns a formatted string with the book's details.\n",
        "class Book:\n",
        "    def __init__(self, title, author, year_published):\n",
        "        self.title = title\n",
        "        self.author = author\n",
        "        self.year_published = year_published\n",
        "\n",
        "    def get_book_info(self):\n",
        "        return f\"'{self.title}' by {self.author}, published in {self.year_published}.\"\n",
        "\n",
        "# Example usage\n",
        "if __name__ == \"__main__\":\n",
        "    my_book = Book(\"1984\", \"George Orwell\", 1949)\n",
        "    print(my_book.get_book_info())"
      ],
      "metadata": {
        "id": "DsIjfGBhiVXp",
        "colab": {
          "base_uri": "https://localhost:8080/"
        },
        "outputId": "b54b7a1d-79e1-4316-ed2a-4d04ba1367a3"
      },
      "execution_count": 13,
      "outputs": [
        {
          "output_type": "stream",
          "name": "stdout",
          "text": [
            "'1984' by George Orwell, published in 1949.\n"
          ]
        }
      ]
    },
    {
      "cell_type": "code",
      "source": [
        "# 18. Create a class House with attributes address and price. Create a derived class Mansion that adds an attribute number_of_rooms.\n",
        "# Base class\n",
        "class House:\n",
        "    def __init__(self, address, price):\n",
        "        self.address = address\n",
        "        self.price = price\n",
        "\n",
        "    def get_house_info(self):\n",
        "        return f\"Address: {self.address}, Price: {self.price}\"\n",
        "\n",
        "class Mansion(House):\n",
        "    def __init__(self, address, price, number_of_rooms):\n",
        "        super().__init__(address, price)\n",
        "        self.number_of_rooms = number_of_rooms\n",
        "\n",
        "    def get_mansion_info(self):\n",
        "        base_info = self.get_house_info()\n",
        "        return f\"{base_info}, Number of Rooms: {self.number_of_rooms}\"\n",
        "\n",
        "# Example usage\n",
        "if __name__ == \"__main__\":\n",
        "    mansion = Mansion(\"patna\", 2500000, 12)\n",
        "    print(mansion.get_mansion_info())"
      ],
      "metadata": {
        "id": "05j6PwDPiU9Z",
        "colab": {
          "base_uri": "https://localhost:8080/"
        },
        "outputId": "b9576bd4-8894-44b7-f294-bfa2e4ca7120"
      },
      "execution_count": 15,
      "outputs": [
        {
          "output_type": "stream",
          "name": "stdout",
          "text": [
            "Address: patna, Price: 2500000, Number of Rooms: 12\n"
          ]
        }
      ]
    }
  ]
}